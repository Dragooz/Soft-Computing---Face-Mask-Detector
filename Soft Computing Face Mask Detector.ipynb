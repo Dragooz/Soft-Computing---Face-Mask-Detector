{
 "cells": [
  {
   "cell_type": "code",
   "execution_count": 1,
   "metadata": {},
   "outputs": [],
   "source": [
    "# import the necessary packages\n",
    "from tensorflow.keras.preprocessing.image import ImageDataGenerator\n",
    "from tensorflow.keras.applications import MobileNetV2\n",
    "from tensorflow.keras.layers import AveragePooling2D\n",
    "from tensorflow.keras.layers import Dropout\n",
    "from tensorflow.keras.layers import Flatten\n",
    "from tensorflow.keras.layers import Dense\n",
    "from tensorflow.keras.layers import Input\n",
    "from tensorflow.keras.models import Model\n",
    "from tensorflow.keras.optimizers import Adam\n",
    "from tensorflow.keras.applications.mobilenet_v2 import preprocess_input\n",
    "from tensorflow.keras.preprocessing.image import img_to_array\n",
    "from tensorflow.keras.preprocessing.image import load_img\n",
    "from tensorflow.keras.utils import to_categorical\n",
    "from sklearn.preprocessing import LabelBinarizer\n",
    "from sklearn.model_selection import train_test_split\n",
    "from sklearn.metrics import classification_report\n",
    "from imutils import paths\n",
    "import matplotlib.pyplot as plt\n",
    "import numpy as np\n",
    "import os"
   ]
  },
  {
   "cell_type": "code",
   "execution_count": 2,
   "metadata": {},
   "outputs": [],
   "source": [
    "# initialize the initial learning rate, number of epochs to train for, and batch size\n",
    "INIT_LR = 1e-4\n",
    "EPOCHS = 20\n",
    "BS = 32"
   ]
  },
  {
   "cell_type": "code",
   "execution_count": 11,
   "metadata": {},
   "outputs": [
    {
     "name": "stdout",
     "output_type": "stream",
     "text": [
      "[INFO] loading images...\n"
     ]
    }
   ],
   "source": [
    "# grab the list of images in our dataset directory, then initialize the list of data (i.e., images) and class images\n",
    "print(\"[INFO] loading images...\")\n",
    "imagePaths1 = list(paths.list_images('dataset\\\\correct_mask'))\n",
    "imagePaths2 = list(paths.list_images('dataset\\\\incorrect_mask'))\n",
    "imagePaths3 = list(paths.list_images('dataset\\\\without_mask'))\n",
    "imagePaths = [imagePaths1, imagePaths2, imagePaths3]\n",
    "\n",
    "data = []\n",
    "labels = []\n",
    "\n",
    "# loop over the image paths\n",
    "for imagePath in imagePaths:\n",
    "    for idx, path in enumerate(imagePath):\n",
    "        #only use the first 1000 images\n",
    "        if idx == 1000:\n",
    "            break;\n",
    "        # extract the class label from the filename\n",
    "        label = path.split(os.path.sep)[-2]\n",
    "        # load the input image (224x224) and preprocess it\n",
    "        image = load_img(path, target_size=(224, 224))\n",
    "        image = img_to_array(image)\n",
    "        image = preprocess_input(image)\n",
    "        # update the data and labels lists, respectively\n",
    "        data.append(image)\n",
    "        labels.append(label)"
   ]
  },
  {
   "cell_type": "code",
   "execution_count": 40,
   "metadata": {},
   "outputs": [],
   "source": [
    "labels_backup = labels.copy()\n",
    "# perform one-hot encoding on the labels\n",
    "lb = LabelBinarizer()\n",
    "labels = lb.fit_transform(labels_backup)\n",
    "# partition the data into training and testing splits using 80% of\n",
    "# the data for training and the remaining 20% for testing\n",
    "\n",
    "(trainX, testX, trainY, testY) = train_test_split(data, labels,\n",
    "    test_size=0.20, stratify=labels, random_state=42)\n",
    "\n",
    "#convert them into numpy to be process\n",
    "trainX = np.array(trainX)\n",
    "testX = np.array(testX)\n",
    "trainY = np.array(trainY)\n",
    "testY = np.array(testY)\n",
    "\n",
    "# construct the training image generator for data augmentation\n",
    "aug = ImageDataGenerator(\n",
    "    rotation_range=20,\n",
    "    zoom_range=0.15,\n",
    "    width_shift_range=0.2,\n",
    "    height_shift_range=0.2,\n",
    "    shear_range=0.15,\n",
    "    horizontal_flip=True,\n",
    "    fill_mode=\"nearest\")"
   ]
  },
  {
   "cell_type": "code",
   "execution_count": 45,
   "metadata": {},
   "outputs": [
    {
     "name": "stdout",
     "output_type": "stream",
     "text": [
      "WARNING:tensorflow:`input_shape` is undefined or non-square, or `rows` is not in [96, 128, 160, 192, 224]. Weights for input shape (224, 224) will be loaded as the default.\n"
     ]
    }
   ],
   "source": [
    "# load the MobileNetV2 network, ensuring the head FC layer sets are left off\n",
    "baseModel = MobileNetV2(weights=\"imagenet\", include_top=False, input_tensor=Input(shape=(224, 224, 3)))\n",
    "\n",
    "# construct the head of the model that will be placed on top of the the base model\n",
    "headModel = baseModel.output\n",
    "headModel = AveragePooling2D(pool_size=(7, 7))(headModel)\n",
    "headModel = Flatten(name=\"flatten\")(headModel)\n",
    "headModel = Dense(128, activation=\"relu\")(headModel)\n",
    "headModel = Dropout(0.5)(headModel)\n",
    "headModel = Dense(3, activation=\"softmax\")(headModel)\n",
    "\n",
    "# place the head FC model on top of the base model (this will become the actual model we will train)\n",
    "model = Model(inputs=baseModel.input, outputs=headModel)\n",
    "\n",
    "# loop over all layers in the base model and freeze them so they will\n",
    "# *not* be updated during the first training process\n",
    "for layer in baseModel.layers:\n",
    "    layer.trainable = False"
   ]
  },
  {
   "cell_type": "code",
   "execution_count": 46,
   "metadata": {
    "scrolled": true
   },
   "outputs": [
    {
     "name": "stdout",
     "output_type": "stream",
     "text": [
      "[INFO] compiling model...\n",
      "[INFO] training head...\n",
      "Epoch 1/20\n",
      "75/75 [==============================] - 29s 384ms/step - loss: 0.7873 - accuracy: 0.6433 - val_loss: 0.3022 - val_accuracy: 0.9200\n",
      "Epoch 2/20\n",
      "75/75 [==============================] - 27s 356ms/step - loss: 0.3374 - accuracy: 0.8700 - val_loss: 0.1967 - val_accuracy: 0.9400\n",
      "Epoch 3/20\n",
      "75/75 [==============================] - 27s 363ms/step - loss: 0.2574 - accuracy: 0.9117 - val_loss: 0.1569 - val_accuracy: 0.9550\n",
      "Epoch 4/20\n",
      "75/75 [==============================] - 27s 364ms/step - loss: 0.2319 - accuracy: 0.9254 - val_loss: 0.1457 - val_accuracy: 0.9417\n",
      "Epoch 5/20\n",
      "75/75 [==============================] - 28s 374ms/step - loss: 0.1779 - accuracy: 0.9346 - val_loss: 0.1154 - val_accuracy: 0.9733\n",
      "Epoch 6/20\n",
      "75/75 [==============================] - 28s 374ms/step - loss: 0.1669 - accuracy: 0.9425 - val_loss: 0.1046 - val_accuracy: 0.9767\n",
      "Epoch 7/20\n",
      "75/75 [==============================] - 28s 373ms/step - loss: 0.1606 - accuracy: 0.9400 - val_loss: 0.0948 - val_accuracy: 0.9767\n",
      "Epoch 8/20\n",
      "75/75 [==============================] - 29s 392ms/step - loss: 0.1386 - accuracy: 0.9500 - val_loss: 0.0877 - val_accuracy: 0.9783\n",
      "Epoch 9/20\n",
      "75/75 [==============================] - 29s 384ms/step - loss: 0.1149 - accuracy: 0.9600 - val_loss: 0.0816 - val_accuracy: 0.9800\n",
      "Epoch 10/20\n",
      "75/75 [==============================] - 28s 377ms/step - loss: 0.1221 - accuracy: 0.9550 - val_loss: 0.0817 - val_accuracy: 0.9833\n",
      "Epoch 11/20\n",
      "75/75 [==============================] - 29s 386ms/step - loss: 0.1171 - accuracy: 0.9567 - val_loss: 0.0743 - val_accuracy: 0.9800\n",
      "Epoch 12/20\n",
      "75/75 [==============================] - 28s 375ms/step - loss: 0.1162 - accuracy: 0.9621 - val_loss: 0.0762 - val_accuracy: 0.9733\n",
      "Epoch 13/20\n",
      "75/75 [==============================] - 29s 385ms/step - loss: 0.1015 - accuracy: 0.9638 - val_loss: 0.0697 - val_accuracy: 0.9833\n",
      "Epoch 14/20\n",
      "75/75 [==============================] - 29s 381ms/step - loss: 0.0987 - accuracy: 0.9671 - val_loss: 0.0657 - val_accuracy: 0.9833\n",
      "Epoch 15/20\n",
      "75/75 [==============================] - 29s 380ms/step - loss: 0.0926 - accuracy: 0.9700 - val_loss: 0.0641 - val_accuracy: 0.9850\n",
      "Epoch 16/20\n",
      "75/75 [==============================] - 30s 397ms/step - loss: 0.0931 - accuracy: 0.9704 - val_loss: 0.0632 - val_accuracy: 0.9783\n",
      "Epoch 17/20\n",
      "75/75 [==============================] - 30s 396ms/step - loss: 0.0917 - accuracy: 0.9646 - val_loss: 0.0639 - val_accuracy: 0.9783\n",
      "Epoch 18/20\n",
      "75/75 [==============================] - 29s 387ms/step - loss: 0.0862 - accuracy: 0.9700 - val_loss: 0.0599 - val_accuracy: 0.9817\n",
      "Epoch 19/20\n",
      "75/75 [==============================] - 29s 383ms/step - loss: 0.0811 - accuracy: 0.9737 - val_loss: 0.0609 - val_accuracy: 0.9783\n",
      "Epoch 20/20\n",
      "75/75 [==============================] - 29s 382ms/step - loss: 0.0826 - accuracy: 0.9721 - val_loss: 0.0643 - val_accuracy: 0.9783\n"
     ]
    }
   ],
   "source": [
    "# compile the model\n",
    "print(\"[INFO] compiling model...\")\n",
    "opt = Adam(lr=INIT_LR, decay=INIT_LR / EPOCHS)\n",
    "model.compile(loss=\"categorical_crossentropy\", optimizer=opt, metrics=[\"accuracy\"])\n",
    "\n",
    "# train the head of the network\n",
    "print(\"[INFO] training head...\")\n",
    "H = model.fit(\n",
    "    aug.flow(trainX, trainY, batch_size=BS),\n",
    "    steps_per_epoch=len(trainX) // BS,\n",
    "    validation_data=(testX, testY),\n",
    "    validation_steps=len(testX) // BS,\n",
    "    epochs=EPOCHS)"
   ]
  },
  {
   "cell_type": "code",
   "execution_count": 48,
   "metadata": {},
   "outputs": [
    {
     "name": "stdout",
     "output_type": "stream",
     "text": [
      "[INFO] evaluating network...\n",
      "                precision    recall  f1-score   support\n",
      "\n",
      "  correct_mask       0.98      0.95      0.97       200\n",
      "incorrect_mask       0.95      0.98      0.97       200\n",
      "  without_mask       1.00      1.00      1.00       200\n",
      "\n",
      "      accuracy                           0.98       600\n",
      "     macro avg       0.98      0.98      0.98       600\n",
      "  weighted avg       0.98      0.98      0.98       600\n",
      "\n",
      "[INFO] saving mask detector model...\n"
     ]
    }
   ],
   "source": [
    "# make predictions on the testing set\n",
    "print(\"[INFO] evaluating network...\")\n",
    "predIdxs = model.predict(testX, batch_size=BS)\n",
    "\n",
    "# for each image in the testing set we need to find the index of the\n",
    "# label with corresponding largest predicted probability\n",
    "predIdxs = np.argmax(predIdxs, axis=1)\n",
    "\n",
    "# show a nicely formatted classification report\n",
    "print(classification_report(testY.argmax(axis=1), predIdxs, target_names=lb.classes_))\n",
    "\n",
    "# serialize the model to disk\n",
    "print(\"[INFO] saving mask detector model...\")\n",
    "model.save('model.h5', save_format=\"h5\")"
   ]
  },
  {
   "cell_type": "code",
   "execution_count": 50,
   "metadata": {},
   "outputs": [
    {
     "data": {
      "image/png": "[encoded data removed]",
      "text/plain": [
       "<Figure size 432x288 with 1 Axes>"
      ]
     },
     "metadata": {},
     "output_type": "display_data"
    }
   ],
   "source": [
    "# plot the training loss and accuracy\n",
    "N = EPOCHS\n",
    "plt.style.use(\"ggplot\")\n",
    "plt.figure()\n",
    "plt.plot(np.arange(0, N), H.history[\"loss\"], label=\"train_loss\")\n",
    "plt.plot(np.arange(0, N), H.history[\"val_loss\"], label=\"val_loss\")\n",
    "plt.plot(np.arange(0, N), H.history[\"accuracy\"], label=\"train_acc\")\n",
    "plt.plot(np.arange(0, N), H.history[\"val_accuracy\"], label=\"val_acc\")\n",
    "plt.title(\"Training Loss and Accuracy\")\n",
    "plt.xlabel(\"Epoch #\")\n",
    "plt.ylabel(\"Loss/Accuracy\")\n",
    "plt.legend(loc=\"lower left\")\n",
    "plt.savefig('plot')"
   ]
  },
  {
   "cell_type": "markdown",
   "metadata": {},
   "source": [
    "# Face Mask Detector"
   ]
  },
  {
   "cell_type": "code",
   "execution_count": 2,
   "metadata": {},
   "outputs": [],
   "source": [
    "# import the necessary packages\n",
    "from tensorflow.keras.applications.mobilenet_v2 import preprocess_input\n",
    "from tensorflow.keras.preprocessing.image import img_to_array\n",
    "from tensorflow.keras.models import load_model\n",
    "import numpy as np\n",
    "import argparse\n",
    "import cv2\n",
    "import os"
   ]
  },
  {
   "cell_type": "code",
   "execution_count": 3,
   "metadata": {},
   "outputs": [
    {
     "name": "stdout",
     "output_type": "stream",
     "text": [
      "[INFO] loading face detector model...\n",
      "[INFO] loading face mask detector model...\n"
     ]
    }
   ],
   "source": [
    "# load the serialized face detector model from disk\n",
    "print(\"[INFO] loading face detector model...\")\n",
    "prototxtPath = os.path.sep.join([\"face_detector\", \"deploy.prototxt\"])\n",
    "weightsPath = os.path.sep.join([\"face_detector\", \"res10_300x300_ssd_iter_140000.caffemodel\"])\n",
    "net = cv2.dnn.readNet(prototxtPath, weightsPath)\n",
    "\n",
    "# load the face mask detector model from disk\n",
    "print(\"[INFO] loading face mask detector model...\")\n",
    "model = load_model('model.h5')"
   ]
  },
  {
   "cell_type": "code",
   "execution_count": 4,
   "metadata": {},
   "outputs": [
    {
     "name": "stdout",
     "output_type": "stream",
     "text": [
      "[INFO] computing face detections...\n"
     ]
    }
   ],
   "source": [
    "# load the input image from disk, clone it, and grab the image spatial dimensions\n",
    "image = cv2.imread('me.jpg')\n",
    "orig = image.copy()\n",
    "(h, w) = image.shape[:2]\n",
    "\n",
    "# construct a blob from the image\n",
    "blob = cv2.dnn.blobFromImage(image, 1.0, (300, 300), (104.0, 177.0, 123.0))\n",
    "\n",
    "# pass the blob through the network and obtain the face detections\n",
    "print(\"[INFO] computing face detections...\")\n",
    "net.setInput(blob)\n",
    "detections = net.forward()"
   ]
  },
  {
   "cell_type": "code",
   "execution_count": 7,
   "metadata": {},
   "outputs": [
    {
     "data": {
      "text/plain": [
       "True"
      ]
     },
     "execution_count": 7,
     "metadata": {},
     "output_type": "execute_result"
    }
   ],
   "source": [
    "CONFIDENCE = 0.8\n",
    "\n",
    "# loop over the detections\n",
    "for i in range(0, detections.shape[2]):\n",
    "    # extract the confidence (i.e., probability) associated with the detection\n",
    "    confidence = detections[0, 0, i, 2]\n",
    "    \n",
    "    # filter out weak detections by ensuring the confidence is greater than the minimum confidence\n",
    "    if confidence > CONFIDENCE:\n",
    "        # compute the (x, y)-coordinates of the bounding box for the object\n",
    "        box = detections[0, 0, i, 3:7] * np.array([w, h, w, h])\n",
    "        (startX, startY, endX, endY) = box.astype(\"int\")\n",
    "        \n",
    "        # ensure the bounding boxes fall within the dimensions of the frame\n",
    "        (startX, startY) = (max(0, startX), max(0, startY))\n",
    "        (endX, endY) = (min(w - 1, endX), min(h - 1, endY))\n",
    "        \n",
    "        # extract the face ROI, convert it from BGR to RGB channel\n",
    "        # ordering, resize it to 224x224, and preprocess it\n",
    "        face = image[startY:endY, startX:endX]\n",
    "        face = cv2.cvtColor(face, cv2.COLOR_BGR2RGB)\n",
    "        face = cv2.resize(face, (224, 224))\n",
    "        face = img_to_array(face)\n",
    "        face = preprocess_input(face)\n",
    "        face = np.expand_dims(face, axis=0)\n",
    "        \n",
    "        # pass the face through the model to determine if the face with correct mask, incorrect mask or without mask\n",
    "        (correct_mask, incorrect_mask, without_mask) = model.predict(face)[0]\n",
    "        \n",
    "        # determine the class label and color we'll use to draw the bounding box and text\n",
    "        if correct_mask > incorrect_mask and correct_mask > without_mask:\n",
    "            label = 'Correct Masking'\n",
    "        elif incorrect_mask > without_mask:\n",
    "            label = 'Incorrect Masking'\n",
    "        else:\n",
    "            label = 'No Mask'\n",
    "            \n",
    "        if label == 'Correct Masking':\n",
    "            color = (0, 255, 0)\n",
    "        else:\n",
    "            color = (0, 0, 255)\n",
    "            \n",
    "        # include the probability in the label\n",
    "        label = \"{}: {:.2f}%\".format(label, max(correct_mask, incorrect_mask, without_mask) * 100)\n",
    "        \n",
    "        # display the label and bounding box rectangle on the output frame\n",
    "        cv2.putText(image, label, (startX, startY - 10),\n",
    "        cv2.FONT_HERSHEY_SIMPLEX, 0.45, color, 2)\n",
    "        cv2.rectangle(image, (startX, startY), (endX, endY), color, 2)\n",
    "        \n",
    "# show the output image\n",
    "cv2.imshow(\"Output\", image)\n",
    "cv2.waitKey(0)\n",
    "\n",
    "#save it\n",
    "cv2.imwrite('me_checked.jpg', image)"
   ]
  }
 ],
 "metadata": {
  "kernelspec": {
   "display_name": "Python 3",
   "language": "python",
   "name": "python3"
  },
  "language_info": {
   "codemirror_mode": {
    "name": "ipython",
    "version": 3
   },
   "file_extension": ".py",
   "mimetype": "text/x-python",
   "name": "python",
   "nbconvert_exporter": "python",
   "pygments_lexer": "ipython3",
   "version": "3.8.2"
  }
 },
 "nbformat": 4,
 "nbformat_minor": 4
}
